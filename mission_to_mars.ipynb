{
 "cells": [
  {
   "cell_type": "code",
   "execution_count": 2,
   "metadata": {},
   "outputs": [],
   "source": [
    "# Dependencies\n",
    "from bs4 import BeautifulSoup\n",
    "from splinter import Browser\n",
    "import requests\n",
    "import pymongo\n",
    "import pandas as pd"
   ]
  },
  {
   "cell_type": "code",
   "execution_count": 3,
   "metadata": {},
   "outputs": [],
   "source": [
    "# URL of page to be scraped\n",
    "news_url = 'https://mars.nasa.gov/news' \n",
    "img_url = 'https://www.jpl.nasa.gov/spaceimages/?search=&category=Mars'\n",
    "twiter_url = \"https://twitter.com/marswxreport?lang=en\"\n",
    "facts_url =\"https://space-facts.com/mars/\"\n",
    "hemisphere_url = \"https://astrogeology.usgs.gov/search/results?q=hemisphere+enhanced&k1=target&v1=Mars\""
   ]
  },
  {
   "cell_type": "code",
   "execution_count": 4,
   "metadata": {},
   "outputs": [],
   "source": [
    "def init_browser(headless):\n",
    "    # @NOTE: Replace the path with your actual path to the chromedriver /usr/local/bin/\n",
    "    executable_path = {\"executable_path\": \"chromedriver.exe\"}\n",
    "    return Browser(\"chrome\", **executable_path, headless=headless)"
   ]
  },
  {
   "cell_type": "code",
   "execution_count": 5,
   "metadata": {},
   "outputs": [],
   "source": [
    "def visit_url(url, tag=\"body\", class_=\"\",headless=True):\n",
    "    browser = init_browser(headless)\n",
    "    browser.visit(url)\n",
    "    html = browser.html\n",
    "    \n",
    "    # Create BeautifulSoup object; parse with 'html.parser'\n",
    "    soup = BeautifulSoup(html, 'lxml')\n",
    "    \n",
    "    #print(soup.prettify())\n",
    "    if class_:\n",
    "        results = soup.find_all(tag, class_=class_)\n",
    "    else:\n",
    "        results = soup.find_all(tag)\n",
    "    \n",
    "    return results"
   ]
  },
  {
   "cell_type": "code",
   "execution_count": 8,
   "metadata": {},
   "outputs": [
    {
     "name": "stdout",
     "output_type": "stream",
     "text": [
      "article title: What's Mars Solar Conjunction, and Why Does It Matter?\n",
      "article date: August 23, 2019\n",
      "paragraph: NASA spacecraft at Mars are going to be on their own for a few weeks when the Sun comes between Mars and Earth, interrupting communications.\n"
     ]
    }
   ],
   "source": [
    "#retrieve title and paragraph from news_url\n",
    "nasa_results = visit_url(news_url, 'div','list_text')\n",
    "nasa_title = nasa_results[0].find('div', class_='content_title').a.text\n",
    "nasa_p = nasa_results[0].find('div', class_='article_teaser_body').text\n",
    "nasa_date = nasa_results[0].find('div', class_='list_date').text\n",
    "print(f\"article title: {nasa_title}\\narticle date: {nasa_date}\\nparagraph: {nasa_p}\")"
   ]
  },
  {
   "cell_type": "code",
   "execution_count": 6,
   "metadata": {},
   "outputs": [
    {
     "name": "stdout",
     "output_type": "stream",
     "text": [
      "https://www.jpl.nasa.gov/spaceimages/?search=&category=Mars/spaceimages/images/mediumsize/PIA19637_ip.jpg\n"
     ]
    }
   ],
   "source": [
    "# feature image\n",
    "# image_results = visit_url(img_url, \"a\",\"button fancybox\")\n",
    "image_results = visit_url(img_url, \"article\",\"carousel_item\")\n",
    "featured_image_url = img_url + image_results[0].a[\"data-fancybox-href\"]\n",
    "print(featured_image_url)"
   ]
  },
  {
   "cell_type": "code",
   "execution_count": 7,
   "metadata": {},
   "outputs": [
    {
     "name": "stdout",
     "output_type": "stream",
     "text": [
      "InSight sol 261 (2019-08-21) low -102.4ºC (-152.4ºF) high -26.6ºC (-15.8ºF)\n",
      "winds from the SSE at 4.9 m/s (11.0 mph) gusting to 16.0 m/s (35.8 mph)\n",
      "pressure at 7.70 \n"
     ]
    }
   ],
   "source": [
    "twiter_results = visit_url(twiter_url, \"p\", class_=\"TweetTextSize TweetTextSize--normal js-tweet-text tweet-text\")\n",
    "mars_weather = twiter_results[0].text.replace(\"hPapic.twitter.com/MhPPOHJg3m\",\"\")\n",
    "print(mars_weather)"
   ]
  },
  {
   "cell_type": "code",
   "execution_count": 8,
   "metadata": {},
   "outputs": [
    {
     "data": {
      "text/plain": [
       "{'value': {'Equatorial Diameter:': '6,792 km',\n",
       "  'Polar Diameter:': '6,752 km',\n",
       "  'Mass:': '6.39 × 10^23 kg (0.11 Earths)',\n",
       "  'Moons:': '2 (Phobos & Deimos)',\n",
       "  'Orbit Distance:': '227,943,824 km (1.38 AU)',\n",
       "  'Orbit Period:': '687 days (1.9 years)',\n",
       "  'Surface Temperature:': '-87 to -5 °C',\n",
       "  'First Record:': '2nd millennium BC',\n",
       "  'Recorded By:': 'Egyptian astronomers'}}"
      ]
     },
     "execution_count": 8,
     "metadata": {},
     "output_type": "execute_result"
    }
   ],
   "source": [
    "fact_results = pd.read_html(facts_url)[1].rename(columns={0:'',1:'value'})\n",
    "fact_results.set_index('',inplace=True)\n",
    "fact_dict = fact_results.to_dict()\n",
    "fact_dict"
   ]
  },
  {
   "cell_type": "code",
   "execution_count": 9,
   "metadata": {},
   "outputs": [
    {
     "data": {
      "text/plain": [
       "[{'title': 'Cerberus Hemisphere Enhanced',\n",
       "  'img_url': 'http://astropedia.astrogeology.usgs.gov/download/Mars/Viking/cerberus_enhanced.tif/full.jpg'},\n",
       " {'title': 'Schiaparelli Hemisphere Enhanced',\n",
       "  'img_url': 'http://astropedia.astrogeology.usgs.gov/download/Mars/Viking/schiaparelli_enhanced.tif/full.jpg'},\n",
       " {'title': 'Syrtis Major Hemisphere Enhanced',\n",
       "  'img_url': 'http://astropedia.astrogeology.usgs.gov/download/Mars/Viking/syrtis_major_enhanced.tif/full.jpg'},\n",
       " {'title': 'Valles Marineris Hemisphere Enhanced',\n",
       "  'img_url': 'http://astropedia.astrogeology.usgs.gov/download/Mars/Viking/valles_marineris_enhanced.tif/full.jpg'}]"
      ]
     },
     "execution_count": 9,
     "metadata": {},
     "output_type": "execute_result"
    }
   ],
   "source": [
    "hemisphere_results = visit_url(hemisphere_url, \"div\", \"description\")\n",
    "hemisphere_baseurl = \"https://astrogeology.usgs.gov\"\n",
    "hemisphere_image_urls = [{\"title\":hemisphere.h3.text, \\\n",
    "                          \"img_url\":visit_url(hemisphere_baseurl+hemisphere.a['href'], 'li')[0].a['href']}\\\n",
    "                        for hemisphere in hemisphere_results]\n",
    "hemisphere_image_urls"
   ]
  },
  {
   "cell_type": "code",
   "execution_count": 10,
   "metadata": {},
   "outputs": [],
   "source": [
    "def scrape_info():\n",
    "\n",
    "    # URL of page to be scraped\n",
    "    news_url = \"https://mars.nasa.gov/news\"\n",
    "    img_url = \"https://www.jpl.nasa.gov/spaceimages/?search=&category=Mars\"\n",
    "    twiter_url = \"https://twitter.com/marswxreport?lang=en\"\n",
    "    facts_url =\"https://space-facts.com/mars/\"\n",
    "    hemisphere_url = \"https://astrogeology.usgs.gov/search/results?q=hemisphere+enhanced&k1=target&v1=Mars\"\n",
    "\n",
    "    # mars news headline and paragraph from news_url\n",
    "    nasa_results = visit_url(news_url, 'div','list_text',False)\n",
    "    nasa_title = nasa_results[0].find('div', class_='content_title').a.text\n",
    "    nasa_p = nasa_results[0].find('div', class_='article_teaser_body').text\n",
    "\n",
    "    # mars feature image\n",
    "    image_results = visit_url(img_url, \"article\",\"carousel_item\")\n",
    "    featured_image_url = img_url + image_results[0].a[\"data-fancybox-href\"]\n",
    "\n",
    "    # mars weather\n",
    "    twiter_results = visit_url(twiter_url, \"p\", class_=\"TweetTextSize TweetTextSize--normal js-tweet-text tweet-text\")\n",
    "    mars_weather = twiter_results[0].text.replace(\"hPapic.twitter.com/MhPPOHJg3m\",\"\")\n",
    "\n",
    "    # mars facts\n",
    "    fact_results = pd.read_html(facts_url)[1].rename(columns={0:'',1:'value'})\n",
    "    fact_results.set_index('',inplace=True)\n",
    "    mars_facts = fact_results.to_dict()\n",
    "\n",
    "    # mars hemispheres images\n",
    "    hemisphere_results = visit_url(hemisphere_url, \"div\", \"description\")\n",
    "    hemisphere_baseurl = \"https://astrogeology.usgs.gov\"\n",
    "    hemisphere_image_urls = [{\"title\":hemisphere.h3.text, \\\n",
    "                            \"img_url\":visit_url(hemisphere_baseurl+hemisphere.a['href'], 'li')[0].a['href']}\\\n",
    "                            for hemisphere in hemisphere_results]\n",
    "    \n",
    "    mars_data = {\n",
    "        \"nasa_title\" : nasa_title,\n",
    "        \"nasa_p\" : nasa_p,\n",
    "        \"featured_image_url\" : featured_image_url,\n",
    "        \"mars_weather\" : mars_weather,\n",
    "        \"mars_facts\" : mars_facts,\n",
    "        \"hemisphere_image_urls\" : hemisphere_image_urls\n",
    "    }\n",
    "\n",
    "    return mars_data"
   ]
  },
  {
   "cell_type": "code",
   "execution_count": null,
   "metadata": {},
   "outputs": [],
   "source": [
    "# Examine the results, then determine element that contains sought info\n",
    "def examine_mars_news():\n",
    "    # Loop through returned results\n",
    "\n",
    "    for result in nasa_results:\n",
    "        # Error handling\n",
    "        try:\n",
    "            # Identify and return headline\n",
    "            title = result.find('div', class_='content_title').a.text\n",
    "            # Identify and return article's date\n",
    "            date = result.find('div', class_='list_date').text\n",
    "            # Identify and return paragraph\n",
    "            paragraph = result.find('div', class_='article_teaser_body').text\n",
    "\n",
    "            # Run only if title, price, and link are available\n",
    "            if (title or date or paragraph):\n",
    "                # Print results\n",
    "                print('-------------')\n",
    "                print(title)\n",
    "                print(date)\n",
    "                print(paragraph)\n",
    "\n",
    "        except Exception as e:\n",
    "            print(e)"
   ]
  },
  {
   "cell_type": "code",
   "execution_count": null,
   "metadata": {},
   "outputs": [],
   "source": [
    "examine_mars_news()"
   ]
  },
  {
   "cell_type": "code",
   "execution_count": 1,
   "metadata": {},
   "outputs": [
    {
     "ename": "NameError",
     "evalue": "name 'scrape_info' is not defined",
     "output_type": "error",
     "traceback": [
      "\u001b[1;31m---------------------------------------------------------------------------\u001b[0m",
      "\u001b[1;31mNameError\u001b[0m                                 Traceback (most recent call last)",
      "\u001b[1;32m<ipython-input-1-e48de231ad95>\u001b[0m in \u001b[0;36m<module>\u001b[1;34m\u001b[0m\n\u001b[1;32m----> 1\u001b[1;33m \u001b[0mmars_data\u001b[0m \u001b[1;33m=\u001b[0m \u001b[0mscrape_info\u001b[0m\u001b[1;33m(\u001b[0m\u001b[1;33m)\u001b[0m\u001b[1;33m\u001b[0m\u001b[1;33m\u001b[0m\u001b[0m\n\u001b[0m\u001b[0;32m      2\u001b[0m \u001b[0mmars_data\u001b[0m\u001b[1;33m\u001b[0m\u001b[1;33m\u001b[0m\u001b[0m\n",
      "\u001b[1;31mNameError\u001b[0m: name 'scrape_info' is not defined"
     ]
    }
   ],
   "source": [
    "mars_data = scrape_info()\n",
    "mars_data"
   ]
  },
  {
   "cell_type": "code",
   "execution_count": 22,
   "metadata": {},
   "outputs": [
    {
     "data": {
      "text/plain": [
       "{'Equatorial Diameter:': '6,792 km',\n",
       " 'Polar Diameter:': '6,752 km',\n",
       " 'Mass:': '6.39 × 10^23 kg (0.11 Earths)',\n",
       " 'Moons:': '2 (Phobos & Deimos)',\n",
       " 'Orbit Distance:': '227,943,824 km (1.38 AU)',\n",
       " 'Orbit Period:': '687 days (1.9 years)',\n",
       " 'Surface Temperature:': '-87 to -5 °C',\n",
       " 'First Record:': '2nd millennium BC',\n",
       " 'Recorded By:': 'Egyptian astronomers'}"
      ]
     },
     "execution_count": 22,
     "metadata": {},
     "output_type": "execute_result"
    }
   ],
   "source": [
    "mars_data['mars_facts']['value']"
   ]
  },
  {
   "cell_type": "code",
   "execution_count": 23,
   "metadata": {},
   "outputs": [
    {
     "name": "stdout",
     "output_type": "stream",
     "text": [
      "<table><tr><th>Equatorial Diameter:</th><th>Polar Diameter:</th><th>Mass:</th><th>Moons:</th><th>Orbit Distance:</th><th>Orbit Period:</th><th>Surface Temperature:</th><th>First Record:</th><th>Recorded By:</th></tr><tr><td>6</td><td>6</td><td>6</td><td>2</td><td>2</td><td>6</td><td>-</td><td>2</td><td>E</td></tr><tr><td>,</td><td>,</td><td>.</td><td> </td><td>2</td><td>8</td><td>8</td><td>n</td><td>g</td></tr><tr><td>7</td><td>7</td><td>3</td><td>(</td><td>7</td><td>7</td><td>7</td><td>d</td><td>y</td></tr><tr><td>9</td><td>5</td><td>9</td><td>P</td><td>,</td><td> </td><td> </td><td> </td><td>p</td></tr><tr><td>2</td><td>2</td><td> </td><td>h</td><td>9</td><td>d</td><td>t</td><td>m</td><td>t</td></tr><tr><td> </td><td> </td><td>×</td><td>o</td><td>4</td><td>a</td><td>o</td><td>i</td><td>i</td></tr><tr><td>k</td><td>k</td><td> </td><td>b</td><td>3</td><td>y</td><td> </td><td>l</td><td>a</td></tr><tr><td>m</td><td>m</td><td>1</td><td>o</td><td>,</td><td>s</td><td>-</td><td>l</td><td>n</td></tr></table>\n"
     ]
    }
   ],
   "source": [
    "data = mars_data['mars_facts']['value']\n",
    "\n",
    "html = '<table><tr><th></th></tr><th>Value</th></tr><tr><th>Description</th></tr><th></th></tr>'\n",
    "# .join(data.keys())\n",
    "for row in zip(*data):\n",
    "    html += '<tr><td>' + '</td><td>'.join(row) + '</td></tr>'\n",
    "\n",
    "html += '</table>'\n",
    "\n",
    "print(html)"
   ]
  },
  {
   "cell_type": "code",
   "execution_count": 25,
   "metadata": {},
   "outputs": [
    {
     "ename": "TypeError",
     "evalue": "'dict_keys' object does not support indexing",
     "output_type": "error",
     "traceback": [
      "\u001b[1;31m---------------------------------------------------------------------------\u001b[0m",
      "\u001b[1;31mTypeError\u001b[0m                                 Traceback (most recent call last)",
      "\u001b[1;32m<ipython-input-25-e433e4070731>\u001b[0m in \u001b[0;36m<module>\u001b[1;34m\u001b[0m\n\u001b[0;32m      1\u001b[0m \u001b[0md\u001b[0m \u001b[1;33m=\u001b[0m \u001b[0mmars_data\u001b[0m\u001b[1;33m[\u001b[0m\u001b[1;34m'mars_facts'\u001b[0m\u001b[1;33m]\u001b[0m\u001b[1;33m[\u001b[0m\u001b[1;34m'value'\u001b[0m\u001b[1;33m]\u001b[0m\u001b[1;33m\u001b[0m\u001b[1;33m\u001b[0m\u001b[0m\n\u001b[0;32m      2\u001b[0m \u001b[0mkeys\u001b[0m \u001b[1;33m=\u001b[0m \u001b[0md\u001b[0m\u001b[1;33m.\u001b[0m\u001b[0mkeys\u001b[0m\u001b[1;33m(\u001b[0m\u001b[1;33m)\u001b[0m\u001b[1;33m\u001b[0m\u001b[1;33m\u001b[0m\u001b[0m\n\u001b[1;32m----> 3\u001b[1;33m \u001b[0mlength\u001b[0m \u001b[1;33m=\u001b[0m \u001b[0mlen\u001b[0m\u001b[1;33m(\u001b[0m\u001b[0md\u001b[0m\u001b[1;33m[\u001b[0m\u001b[0mkeys\u001b[0m\u001b[1;33m[\u001b[0m\u001b[1;36m0\u001b[0m\u001b[1;33m]\u001b[0m\u001b[1;33m]\u001b[0m\u001b[1;33m)\u001b[0m\u001b[1;33m\u001b[0m\u001b[1;33m\u001b[0m\u001b[0m\n\u001b[0m\u001b[0;32m      4\u001b[0m \u001b[1;33m\u001b[0m\u001b[0m\n\u001b[0;32m      5\u001b[0m \u001b[0mitems\u001b[0m \u001b[1;33m=\u001b[0m \u001b[1;33m[\u001b[0m\u001b[1;34m'<table style=\"width:300px\">'\u001b[0m\u001b[1;33m,\u001b[0m \u001b[1;34m'<tr>'\u001b[0m\u001b[1;33m]\u001b[0m\u001b[1;33m\u001b[0m\u001b[1;33m\u001b[0m\u001b[0m\n",
      "\u001b[1;31mTypeError\u001b[0m: 'dict_keys' object does not support indexing"
     ]
    }
   ],
   "source": [
    "d = mars_data['mars_facts']['value']\n",
    "keys = d.keys()\n",
    "length = len(d[keys[0]])\n",
    "\n",
    "items = ['<table style=\"width:300px\">', '<tr>']\n",
    "for k in keys:\n",
    "    items.append('<td>%s</td>' % k)\n",
    "items.append('</tr>')\n",
    "\n",
    "for i in range(length):\n",
    "    items.append('<tr>')\n",
    "    for k in keys:\n",
    "        items.append('<td>%s</td>' % d[k][i])\n",
    "    items.append('</tr>')\n",
    "\n",
    "items.append('</table>')\n",
    "\n",
    "print('\\n'.join(items))"
   ]
  },
  {
   "cell_type": "code",
   "execution_count": null,
   "metadata": {},
   "outputs": [],
   "source": []
  }
 ],
 "metadata": {
  "kernelspec": {
   "display_name": "Python 3",
   "language": "python",
   "name": "python3"
  },
  "language_info": {
   "codemirror_mode": {
    "name": "ipython",
    "version": 3
   },
   "file_extension": ".py",
   "mimetype": "text/x-python",
   "name": "python",
   "nbconvert_exporter": "python",
   "pygments_lexer": "ipython3",
   "version": "3.7.1"
  }
 },
 "nbformat": 4,
 "nbformat_minor": 2
}
